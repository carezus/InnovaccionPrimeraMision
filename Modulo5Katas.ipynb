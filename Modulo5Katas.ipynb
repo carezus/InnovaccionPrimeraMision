{
 "cells": [
  {
   "cell_type": "markdown",
   "metadata": {},
   "source": [
    "Ejercicio 1"
   ]
  },
  {
   "cell_type": "code",
   "execution_count": 4,
   "metadata": {},
   "outputs": [],
   "source": [
    "#Distancias\n",
    "tierra = 149597870\n",
    "jupiter = 778547200"
   ]
  },
  {
   "cell_type": "code",
   "execution_count": 17,
   "metadata": {},
   "outputs": [
    {
     "name": "stdout",
     "output_type": "stream",
     "text": [
      "La distancia entre la Tierrra y Jupiter es de 628949330 km\n",
      "La distancia entre la Tierrra y Jupiter es de 390577533.93 millas\n"
     ]
    }
   ],
   "source": [
    "distanciaKm = abs(tierra - jupiter)\n",
    "distanciaMillas = distanciaKm*0.621\n",
    "print(f\"La distancia entre la Tierrra y Jupiter es de {distanciaKm} km\")\n",
    "print(f\"La distancia entre la Tierrra y Jupiter es de {distanciaMillas} millas\")\n"
   ]
  },
  {
   "cell_type": "markdown",
   "metadata": {},
   "source": [
    "Ejercicio 2"
   ]
  },
  {
   "cell_type": "code",
   "execution_count": 27,
   "metadata": {},
   "outputs": [],
   "source": [
    "rawPlanet1 = input(\"Ingresa la distancia en kilometros del Sol a Neptuno: \")\n",
    "rawPlanet2 = input(\"Ingresa la distancia en kilometros del Sol a Saturno: \")\n",
    "planet1 = int(rawPlanet1)\n",
    "planet2 = int(rawPlanet2)\n"
   ]
  },
  {
   "cell_type": "code",
   "execution_count": 28,
   "metadata": {},
   "outputs": [
    {
     "name": "stdout",
     "output_type": "stream",
     "text": [
      "La distancia entre Saturno y Neptuno es de 1901253600.0 millas\n"
     ]
    }
   ],
   "source": [
    "distKm = abs(planet1 - planet2)\n",
    "distMill = distKm*0.621\n",
    "print(f\"La distancia entre Saturno y Neptuno es de {distMill} millas\")"
   ]
  },
  {
   "cell_type": "code",
   "execution_count": 29,
   "metadata": {},
   "outputs": [
    {
     "name": "stdout",
     "output_type": "stream",
     "text": [
      "<class 'float'>\n"
     ]
    }
   ],
   "source": [
    "print(type(distMill))"
   ]
  }
 ],
 "metadata": {
  "interpreter": {
   "hash": "db095f6660b12e69417ee590ed77b5ad6a6fcce500f78ae2270f5989ddee2949"
  },
  "kernelspec": {
   "display_name": "Python 3.10.2 64-bit",
   "language": "python",
   "name": "python3"
  },
  "language_info": {
   "codemirror_mode": {
    "name": "ipython",
    "version": 3
   },
   "file_extension": ".py",
   "mimetype": "text/x-python",
   "name": "python",
   "nbconvert_exporter": "python",
   "pygments_lexer": "ipython3",
   "version": "3.10.2"
  },
  "orig_nbformat": 4
 },
 "nbformat": 4,
 "nbformat_minor": 2
}
