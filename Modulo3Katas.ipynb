{
 "cells": [
  {
   "cell_type": "code",
   "execution_count": 14,
   "metadata": {},
   "outputs": [
    {
     "name": "stdout",
     "output_type": "stream",
     "text": [
      "¡Peligro, asteroide acercándose!\n"
     ]
    }
   ],
   "source": [
    "velAsteroide = 49\n",
    "\n",
    "if velAsteroide > 25:\n",
    "    print(\"¡Peligro, asteroide acercándose a gran velocidad!\")\n",
    "else:\n",
    "    print(\"Tranquilos, no hay peligro en este momento.\")\n",
    "\n"
   ]
  },
  {
   "cell_type": "code",
   "execution_count": 21,
   "metadata": {},
   "outputs": [
    {
     "name": "stdout",
     "output_type": "stream",
     "text": [
      "Tranquilos, no hay peligro en este momento.\n"
     ]
    }
   ],
   "source": [
    "velAsteroide = 19\n",
    "\n",
    "if velAsteroide > 25:\n",
    "    print(\"¡Peligro, asteroide acercándose a gran velocidad! Busca su estela en el cielo.\")\n",
    "elif velAsteroide >= 20 and velAsteroide <= 25:\n",
    "    print(\"Asteroide inofensivo acercandose, ¡busca en el cielo su estela!\")\n",
    "else:\n",
    "    print(\"Tranquilos, no hay peligro en este momento.\")"
   ]
  },
  {
   "cell_type": "code",
   "execution_count": 41,
   "metadata": {},
   "outputs": [
    {
     "name": "stdout",
     "output_type": "stream",
     "text": [
      "No hay peligro, amigos.\n"
     ]
    }
   ],
   "source": [
    "dimAsteroide = 24\n",
    "velAsteroide = 19\n",
    "\n",
    "if dimAsteroide > 25 and velAsteroide > 25:\n",
    "    print(\"¡Peligro, asteroide de gran tamaño acercándose a gran velocidad! Busca en el cielo su estela.\")\n",
    "elif velAsteroide >= 20:\n",
    "    print(\"Asteroide inofensivo acercandose, ¡busca en el cielo su estela!\")\n",
    "elif dimAsteroide < 25:\n",
    "    print(\"No hay peligro, amigos.\")\n",
    "else:\n",
    "    print(\"No hay peligro, amigos.\")\n",
    "\n"
   ]
  },
  {
   "cell_type": "code",
   "execution_count": null,
   "metadata": {},
   "outputs": [],
   "source": []
  }
 ],
 "metadata": {
  "interpreter": {
   "hash": "db095f6660b12e69417ee590ed77b5ad6a6fcce500f78ae2270f5989ddee2949"
  },
  "kernelspec": {
   "display_name": "Python 3.10.2 64-bit",
   "language": "python",
   "name": "python3"
  },
  "language_info": {
   "codemirror_mode": {
    "name": "ipython",
    "version": 3
   },
   "file_extension": ".py",
   "mimetype": "text/x-python",
   "name": "python",
   "nbconvert_exporter": "python",
   "pygments_lexer": "ipython3",
   "version": "3.10.2"
  },
  "orig_nbformat": 4
 },
 "nbformat": 4,
 "nbformat_minor": 2
}
